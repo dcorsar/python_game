{
 "cells": [
  {
   "cell_type": "markdown",
   "metadata": {},
   "source": [
    "# Welcome to the Python Adventure: Creating Your Game Character!"
   ]
  },
  {
   "cell_type": "markdown",
   "metadata": {},
   "source": [
    "## Hello and welcome, aspiring game developers and Python enthusiasts! 🎮🐍\n",
    "\n",
    "Today, we're embarking on a thrilling journey into the world of Python programming, where we'll not only hone our coding skills but also craft the beginnings of an epic game character. Throughout these exercises, we'll cover a variety of essential programming concepts while creating the foundation of your very own game character. Including their name and inventory, you'll have the chance to create a unique persona for your character and gain some XP.\n",
    "\n",
    "We'll start with the basics and gradually build up in complexity. By the end of this lesson, you'll not only have a better grasp of programming concepts using Python but also a fully-fledged character ready for epic quests and battles. Are you ready to begin? Let's embark on this coding adventure together! 🚀👾"
   ]
  },
  {
   "cell_type": "markdown",
   "metadata": {},
   "source": [
    "## Variables"
   ]
  },
  {
   "cell_type": "markdown",
   "metadata": {},
   "source": [
    "In the world of game development and Python programming, variables provide a way to store data as the program runs. \n",
    "\n",
    "Lets create two variables - one for storing the `character_name` and one for the `character_type`.\n",
    "\n",
    "Copy and paste the following into the cell below, editing it to assign the character name of your choice\n",
    "\n",
    "    character_name = \"Aurelia\"\n",
    "    print(character_name)`\n",
    "\n",
    "Once you've copied the code into the cell below, click the Run button to execute the code.\n"
   ]
  },
  {
   "cell_type": "code",
   "execution_count": null,
   "metadata": {},
   "outputs": [],
   "source": []
  },
  {
   "cell_type": "markdown",
   "metadata": {},
   "source": [
    "Great!\n",
    "\n",
    "In the cell below, create a variable `character_type` and assign it a character type (e.g., \"warrior\", \"wizard\", \"rogue\")."
   ]
  },
  {
   "cell_type": "code",
   "execution_count": null,
   "metadata": {},
   "outputs": [],
   "source": []
  },
  {
   "cell_type": "markdown",
   "metadata": {},
   "source": [
    "### Input"
   ]
  },
  {
   "cell_type": "markdown",
   "metadata": {},
   "source": [
    "That's great if all the characters are going to have the same name and type, but let's try making something that will allow the user to provide this. To do this, we will need to deal with user input.\n",
    "\n",
    "In the box below type:\n",
    "\n",
    "    character_name = input(\"What is your character name: \")\n",
    "    print(\"Hello \"+ character_name)\n",
    "\n",
    "When you run this, you'll be asked to input your character's name and then get a personal greeting."
   ]
  },
  {
   "cell_type": "code",
   "execution_count": null,
   "metadata": {},
   "outputs": [],
   "source": []
  },
  {
   "cell_type": "markdown",
   "metadata": {},
   "source": [
    "Want to try it again with another name? Click the box with your code in and then press Run again."
   ]
  },
  {
   "cell_type": "markdown",
   "metadata": {},
   "source": [
    "In the cell below, type the code that will allow the user to enter the `character_type`"
   ]
  },
  {
   "cell_type": "code",
   "execution_count": null,
   "metadata": {},
   "outputs": [],
   "source": []
  },
  {
   "cell_type": "markdown",
   "metadata": {},
   "source": [
    "### Some Terminology"
   ]
  },
  {
   "cell_type": "markdown",
   "metadata": {},
   "source": [
    "`print()` and `input()` are called **functions**. The things we put inside the brackets are called **arguments** or **parameters**. If they give you an answer back (like input does) then we say it **returns** a value. Using a function is called **calling** it.\n",
    "\n",
    "`character_name = input(\"What is your character name: \")`\n",
    "\n",
    "I **called** the input **function** with an **argument** of \"What is your character name: \". It **returned** a value which I stored in the **variable** character_name."
   ]
  },
  {
   "cell_type": "markdown",
   "metadata": {},
   "source": [
    "## Checking the character type"
   ]
  },
  {
   "cell_type": "markdown",
   "metadata": {},
   "source": [
    "In most games, you'll often find a variety of character types to pick from. Rather than letting the user enter the type, you can present a list of options, and use if statements to validate the user's input.\n",
    "\n",
    "If statements allow your code to do some actions only if something is true.  If it's false we do something else.\n",
    "\n",
    "Let's see an example. Type in the following program\n",
    "\n",
    "(Look carefully for the :s and note that the indents are necessary)\n",
    "\n",
    "    alignment = \"unknown\"\n",
    "    print(\"1. Good\")\n",
    "    print(\"2. Evil\")\n",
    "    choice = input(\"Please enter your character's alignment\")\n",
    "    if choice == \"1\":\n",
    "        print(\"Good - great choice!\")\n",
    "        alignment = \"Good\"\n",
    "    elif choice == \"2\":\n",
    "        print(\"Your evil - fantastic selection!\")\n",
    "        alignment = \"Evil\"\n",
    "    else:\n",
    "        print(\"Invalid choice\")"
   ]
  },
  {
   "cell_type": "code",
   "execution_count": null,
   "metadata": {},
   "outputs": [],
   "source": []
  },
  {
   "cell_type": "markdown",
   "metadata": {},
   "source": [
    "Do you see how the if statement works? **If** `choice == \"1\"` then we do the first print statement else if (**elif**) `choice == \"2\"` then we do the second print statement, else we do the third print statement."
   ]
  },
  {
   "cell_type": "markdown",
   "metadata": {},
   "source": [
    "**Data Types**\n",
    "\n",
    "You may have noticed that the if statement uses `\"1\"`. This is because the **input** function returns a string. Strings in Python are defined in double quotes (`\" \"`).\n",
    "\n",
    "We can try to convert a String to an integer (i.e. number) using the `int()` function as follows:\n",
    "\n",
    "    choice_string = input(\"Please enter your character's alignment\")\n",
    "    choice_int = int(choice_string)\n",
    "    \n",
    "The **if** and **elif** checks will now also need to be updated. Try typing the following into the cell below and running it. \n",
    "\n",
    "    alignment = \"unknown\"\n",
    "    print(\"1. Good\")\n",
    "    print(\"2. Evil\")\n",
    "    choice_string = input(\"Please enter your character's alignment\")\n",
    "    choice_int = int(choice_string)\n",
    "    if choice_int == 1:\n",
    "        print(\"Good - great choice!\")\n",
    "        alignment = \"Good\"\n",
    "    elif choice_int == 2:\n",
    "        print(\"Your evil - fantastic selection!\")\n",
    "        alignment = \"Evil\"\n",
    "    else:\n",
    "        print(\"Invalid choice\")"
   ]
  },
  {
   "cell_type": "code",
   "execution_count": null,
   "metadata": {},
   "outputs": [],
   "source": []
  },
  {
   "cell_type": "markdown",
   "metadata": {},
   "source": [
    "Try running the code above a few times, entering both numbers and text to see what happens."
   ]
  },
  {
   "cell_type": "markdown",
   "metadata": {},
   "source": [
    "Do you see the difference in the if statement:\n",
    "   \n",
    "    if choice_int == 1:\n",
    "\n",
    "checks that `choice_int` variable has the integer value `1`. Compare this with\n",
    "\n",
    "    if choice == \"1\":\n",
    "    \n",
    "which checksif the `choice` variable has the string value `\"1\"`."
   ]
  },
  {
   "cell_type": "markdown",
   "metadata": {},
   "source": [
    "Now its your turn.  Present the user with some options for their character type, ask them to select one, and then set the `character_type` variable to an appropriate value."
   ]
  },
  {
   "cell_type": "code",
   "execution_count": null,
   "metadata": {},
   "outputs": [],
   "source": []
  },
  {
   "cell_type": "markdown",
   "metadata": {},
   "source": [
    "## Building the character's inventory"
   ]
  },
  {
   "cell_type": "markdown",
   "metadata": {},
   "source": [
    "All good characters have an inventory of items they can use throughout their adventures. Throughout their journey, characters collect or purchase items to add to their inventory, and remove them either by selling or using. \n",
    "\n",
    "Given the contents of the inventory change frequently, **lists** are typically used to store the list of items currently held by the character. \n",
    "\n",
    "Lists are what they sound like - a list of items. We can store a whole list of items in a single variable.\n",
    "\n",
    "Try the following example. The first line creates an empty list. The appends add an extra item onto the end of the list.\n",
    "\n",
    "    inventory = []\n",
    "    item = input(\"Please enter the next item:\")\n",
    "    inventory.append(item)\n",
    "    item = input(\"Please enter the next item:\")\n",
    "    inventory.append(item)\n",
    "    item = input(\"Please enter the next item:\")\n",
    "    inventory.append(item)\n",
    "    print(inventory)"
   ]
  },
  {
   "cell_type": "code",
   "execution_count": null,
   "metadata": {},
   "outputs": [],
   "source": []
  },
  {
   "cell_type": "markdown",
   "metadata": {},
   "source": [
    "Can you see what happens? Each item you entered got added onto the end of the list."
   ]
  },
  {
   "cell_type": "markdown",
   "metadata": {},
   "source": [
    "If we want to access a particular **element** of the list. We can use its **index**. This is just the position of the element in the list. Note that 0 is the first index.\n",
    "\n",
    "Try this to see how it works:\n",
    "\n",
    "    inventory = [\"sword\", \"potion\", \"shield\", \"key\", \"torch\"]\n",
    "    print(inventory)\n",
    "    print()\n",
    "    \n",
    "    print(inventory[0])\n",
    "    print(inventory[1])\n",
    "    print(inventory[2])\n",
    "    print()\n",
    "    \n",
    "    inventory[0] = 'map'\n",
    "    inventory[1] = 'rope'\n",
    "    print(inventory)"
   ]
  },
  {
   "cell_type": "markdown",
   "metadata": {},
   "source": [
    "Your turn. Start your code below with\n",
    "\n",
    "    inventory = [\"bow\", \"potion\", \"key\", \"torch\"]\n",
    "\n",
    "Write some code that changes the items at some indices and uses `append`s to turn it into\n",
    "\n",
    "    [\"bow\", \"arrows\", \"key\", \"medicinal herbs\", \"lockpick\", \"compass\"\n",
    "\n",
    "Print it out to be sure it worked."
   ]
  },
  {
   "cell_type": "code",
   "execution_count": null,
   "metadata": {},
   "outputs": [],
   "source": []
  },
  {
   "cell_type": "markdown",
   "metadata": {},
   "source": [
    "## Lists and Loops"
   ]
  },
  {
   "cell_type": "markdown",
   "metadata": {},
   "source": [
    "We often want to repeat something several times. For this we can use a **loop**. Python gives us two kinds of loop - a for loop and a while loop. Both work really well with loops.\n",
    "\n"
   ]
  },
  {
   "cell_type": "markdown",
   "metadata": {},
   "source": [
    "### for loops"
   ]
  },
  {
   "cell_type": "markdown",
   "metadata": {},
   "source": [
    "Lets see a simple example of a `for` loop. \n",
    "\n",
    "A for loop does something for a number of times. Try the following example:\n",
    "\n",
    "    for i in range(0,5):\n",
    "        print(i)\n",
    "\n",
    "(Careful with the : and the indent again)"
   ]
  },
  {
   "cell_type": "code",
   "execution_count": null,
   "metadata": {},
   "outputs": [],
   "source": []
  },
  {
   "cell_type": "markdown",
   "metadata": {},
   "source": [
    "Notice that it prints several things despite there only being one print statement. This is because that print statement gets executed several times."
   ]
  },
  {
   "cell_type": "markdown",
   "metadata": {},
   "source": [
    "Let's break that program down to understand how it works.\n",
    "\n",
    "What happens is this\n",
    "- i is set to the first number inside the range(), (i=0)\n",
    "- we do the **body** of the loop, which in this case is print(i), i.e. print(0)\n",
    "- i is increased by 1 (i=1)\n",
    "- we do the body of the loop again, print(i) (which is print(1) now)\n",
    "- i is increased by 1 (i=2)\n",
    "- we do the body of the loop again, print(i) (which is print(2) now)\n",
    "- ...\n",
    "- we repeat this until i the last number in range() and then we stop looping\n",
    "\n"
   ]
  },
  {
   "cell_type": "markdown",
   "metadata": {},
   "source": [
    "Lets try this with our inventory.\n",
    "\n",
    "First, lets work out how many items are in the inventory. We can do this using the `len()` function in Python.\n",
    "\n",
    "    inventory_length = len(inventory)\n",
    "    print(inventory_length)\n",
    "    \n",
    "Try this out using the cell below."
   ]
  },
  {
   "cell_type": "code",
   "execution_count": null,
   "metadata": {},
   "outputs": [],
   "source": []
  },
  {
   "cell_type": "markdown",
   "metadata": {},
   "source": [
    "Now, try writing a for loop that will go through every element of the `inventory` list, using `i` as the **index** and printing the item at that **index**."
   ]
  },
  {
   "cell_type": "code",
   "execution_count": null,
   "metadata": {},
   "outputs": [],
   "source": []
  },
  {
   "cell_type": "markdown",
   "metadata": {},
   "source": [
    "### While loops"
   ]
  },
  {
   "cell_type": "markdown",
   "metadata": {},
   "source": [
    "The other kind of loop in Python is a while loop. This keeps repeating something **while** something is true.\n",
    "\n",
    "Let's see it in action. Type the following program in. (Again, be careful with : and indents)\n",
    "\n",
    "    name = \"\"\n",
    "    while name != \"quit\":\n",
    "        name = input(\"Enter your name: \")\n",
    "        print(\"Hello \" + name)\n",
    "    print(\"Thank you \" + name)\n",
    "        \n",
    "Type `quit` when you've had enough."
   ]
  },
  {
   "cell_type": "code",
   "execution_count": null,
   "metadata": {},
   "outputs": [],
   "source": []
  },
  {
   "cell_type": "markdown",
   "metadata": {},
   "source": [
    "Notice that it keeps repeating the same piece of code exactly like the for loop. The difference is how it decides to stop. With the for loop, the code executes a fixed number of times (as determined by the numbers in the range()). With the while loop, it repeats until the condition on the `while` line is false.\n",
    "\n",
    "Let's try anopther example.\n",
    "\n",
    "    i = 0\n",
    "    while i < 10:\n",
    "        print(i)\n",
    "        i = i + 1"
   ]
  },
  {
   "cell_type": "code",
   "execution_count": null,
   "metadata": {},
   "outputs": [],
   "source": []
  },
  {
   "cell_type": "markdown",
   "metadata": {},
   "source": [
    "Time for you to try. Write some code that asks the user `Any more items to add to the inventory? (yes or no)`, and while the answer is not no, ask them for the name of the item, and add it to the `inventory` list.  When the inventory is complete, print the items. \n"
   ]
  },
  {
   "cell_type": "code",
   "execution_count": null,
   "metadata": {},
   "outputs": [],
   "source": []
  },
  {
   "cell_type": "markdown",
   "metadata": {},
   "source": [
    "## Gaining XP"
   ]
  },
  {
   "cell_type": "markdown",
   "metadata": {},
   "source": [
    "As your character progresses through the game, they may have to fight monsters in order to continue. \n",
    "\n",
    "Select the cell below, and click Run to run a simple combat system."
   ]
  },
  {
   "cell_type": "code",
   "execution_count": null,
   "metadata": {},
   "outputs": [],
   "source": [
    "import random\n",
    "\n",
    "choice = input(\"Do you want to fight a monster? (yes or anything else to quit): \")\n",
    "\n",
    "while choice == \"yes\":\n",
    "    # Simulate character's attack and monster's defense using random numbers\n",
    "    character_attack = random.randint(1, 10)\n",
    "    monster_defense = random.randint(1, 10)\n",
    "\n",
    "    print(f\"You attack with a strength of {character_attack}.\")\n",
    "    print(f\"The monster defends with a defense of {monster_defense}.\")\n",
    "\n",
    "    if character_attack > monster_defense:\n",
    "        print(\"You defeated the monster! Victory!\")\n",
    "    else:\n",
    "        print(\"The monster overpowers you. You lose this battle. Try again!\")\n",
    "\n",
    "\n",
    "    choice = input(\"Do you want to fight a monster? (yes or anything else to quit): \")\n",
    "\n",
    "print(\"Thank you, we hope you enjoyed fighting the monster(s)\")"
   ]
  },
  {
   "cell_type": "markdown",
   "metadata": {},
   "source": [
    "Lets look at what the code does:\n",
    "* first we import the random module to generate random numbers.\n",
    "* then we ask the user if they want to fight or not\n",
    "* then we have a while loop keeps going while the user enters \"yes\" to fighting the moster\n",
    "* Inside the loop, we generate random numbers for the character's attack and the monster's defense.\n",
    "* We compare the character's attack to the monster's defense, and the outcome is displayed accordingly.\n",
    "* We ask the user if they would like to fight again or not\n",
    "* The program continues until the user decides not to fight anymore.\n",
    "* At the end of the fighting, we display a thank you message"
   ]
  },
  {
   "cell_type": "markdown",
   "metadata": {},
   "source": [
    "The more fights a character goes through, the more experience points they gain.\n",
    "\n",
    "Edit the code below to keep track of the character's experience points (`experience`) and increment it by a random amount after each battle.\n",
    "\n",
    "Start by initialising the `experience` points to 0 before the battles begin.\n",
    "\n",
    "After each battle, add two variables using the `+` operator, e.g. `experience + battle_points`\n",
    "\n",
    "After all of the battles are over, print out the character's final experience points. "
   ]
  },
  {
   "cell_type": "code",
   "execution_count": null,
   "metadata": {},
   "outputs": [],
   "source": [
    "import random\n",
    "\n",
    "\n",
    "\n",
    "choice = input(\"Do you want to fight a monster? (yes or anything else to quit): \")\n",
    "\n",
    "\n",
    "while choice == \"yes\":\n",
    "    # Simulate character's attack and monster's defense using random numbers\n",
    "    character_attack = random.randint(1, 10)\n",
    "    monster_defense = random.randint(1, 10)\n",
    "    \n",
    "    print(f\"You attack with a strength of {character_attack}.\")\n",
    "    print(f\"The monster defends with a defense of {monster_defense}.\")\n",
    "\n",
    "    if character_attack > monster_defense:\n",
    "        print(\"You defeated the monster! Victory!\")\n",
    "    else:\n",
    "        print(\"The monster overpowers you. You lose this battle. Try again!\")\n",
    "\n",
    "    # add two variables using the + operator, e.g. experience + battle_points\n",
    "        \n",
    "        \n",
    "    choice = input(\"Do you want to fight a monster? (yes or anything else to quit): \")\n",
    "\n",
    "print(\"Thank you, we hope you enjoyed fighting the monster(s)\")"
   ]
  },
  {
   "cell_type": "markdown",
   "metadata": {},
   "source": [
    "## Extra challenge"
   ]
  },
  {
   "cell_type": "markdown",
   "metadata": {},
   "source": [
    "The code for managing the inventory above only allows users to add items. \n",
    "\n",
    "Python also lets us remove items from lists using the `remove()` method.\n",
    "\n",
    "Try the following\n",
    "\n",
    "    character_attributes = [\"Strength\", \"Agility\", \"Intelligence\", \"Health\", \"Mana\", \"Charisma\"]\n",
    "    print(character_attributes)\n",
    "    \n",
    "    character_attributes.remove(\"Agility\")\n",
    "    print(character_attributes)\n",
    "    \n",
    "    character_attributes.remove(\"Intelligence\")\n",
    "    print(character_attributes)"
   ]
  },
  {
   "cell_type": "code",
   "execution_count": null,
   "metadata": {},
   "outputs": [],
   "source": []
  },
  {
   "cell_type": "markdown",
   "metadata": {},
   "source": [
    "Now your turn. Try writing some inventory management code, that will allow the user to:\n",
    "* view the items in the inventory\n",
    "* add an item to the inventory\n",
    "* remove an item from the inventory\n",
    "* exit the inventory management\n",
    "\n",
    "tip: start by setting the `inventory` to be an empty list (`[]`), then\n",
    "\n",
    "display a menu of options\n",
    "\n",
    "while the user does not select to exit\n",
    "   perform the requested actoin"
   ]
  },
  {
   "cell_type": "code",
   "execution_count": null,
   "metadata": {},
   "outputs": [],
   "source": []
  }
 ],
 "metadata": {
  "kernelspec": {
   "display_name": "Python 3",
   "language": "python",
   "name": "python3"
  },
  "language_info": {
   "codemirror_mode": {
    "name": "ipython",
    "version": 3
   },
   "file_extension": ".py",
   "mimetype": "text/x-python",
   "name": "python",
   "nbconvert_exporter": "python",
   "pygments_lexer": "ipython3",
   "version": "3.7.3"
  }
 },
 "nbformat": 4,
 "nbformat_minor": 2
}
